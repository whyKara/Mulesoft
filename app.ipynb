{
 "cells": [
  {
   "cell_type": "code",
   "execution_count": 1,
   "metadata": {},
   "outputs": [],
   "source": [
    "import sqlite3\n",
    "from sqlite3 import Error"
   ]
  },
  {
   "cell_type": "code",
   "execution_count": 4,
   "metadata": {},
   "outputs": [
    {
     "data": {
      "text/plain": [
       "<sqlite3.Connection at 0x105dfd3f0>"
      ]
     },
     "execution_count": 4,
     "metadata": {},
     "output_type": "execute_result"
    }
   ],
   "source": [
    "def db_connection():\n",
    "    file_path = \"./mulesoftDB.db\"\n",
    "    conn = None\n",
    "\n",
    "    try:\n",
    "        conn = sqlite3.connect(file_path)\n",
    "        # print(sqlite3.version)\n",
    "        return conn\n",
    "    except Error as e:\n",
    "        print(e)\n",
    "\n",
    "    return conn\n",
    "\n",
    "db_connection()"
   ]
  },
  {
   "cell_type": "markdown",
   "metadata": {},
   "source": [
    "CREATE TABLE IF NOT EXISTS movies(\n",
    "    m_id integer PRIMARY KEY AUTOINCREMENT,\n",
    "    m_name text NOT NULL,\n",
    "    m_dor text\n",
    ");\n",
    "\n",
    "CREATE TABLE IF NOT EXISTS movie_roles(\n",
    "    r_id integer PRIMARY KEY,\n",
    "    r_role text NOT NULL\n",
    ");\n",
    "\n",
    "CREATE TABLE IF NOT EXISTS movie_cast(\n",
    "    c_id integer PRIMARY KEY AUTOINCREMENT,\n",
    "    c_name text NOT NULL,\n",
    "    c_role integer NOT NULL,\n",
    "    FOREIGN KEY (c_role) REFERENCES movie_roles(r_id)\n",
    ");\n",
    "\n",
    "CREATE TABLE IF NOT EXISTS r_cast_movie(\n",
    "    r_cid integer NOT NULL,\n",
    "    r_mid integer NOT NULL,\n",
    "    FOREIGN KEY (r_cid) REFERENCES movie_cast(c_id),\n",
    "    FOREIGN KEY (r_mid) REFERENCES movie_cast(m_id)\n",
    ");"
   ]
  },
  {
   "cell_type": "code",
   "execution_count": 7,
   "metadata": {},
   "outputs": [],
   "source": [
    "def crea_table(conn, create_table_query):\n",
    "    try:\n",
    "        c =conn.cursor()\n",
    "        c.execute(create_table_query)\n",
    "    except Error as e:\n",
    "        print(e)"
   ]
  },
  {
   "cell_type": "code",
   "execution_count": 20,
   "metadata": {},
   "outputs": [],
   "source": [
    "conn = db_connection()\n",
    "\n",
    "querry1 = \"\"\"CREATE TABLE IF NOT EXISTS movies(\n",
    "    m_id integer PRIMARY KEY AUTOINCREMENT,\n",
    "    m_name text NOT NULL,\n",
    "    m_dor text\n",
    ");\"\"\"\n",
    "querry2 = \"\"\"CREATE TABLE IF NOT EXISTS movie_roles(\n",
    "    r_id integer PRIMARY KEY AUTOINCREMENT,\n",
    "    r_role text NOT NULL\n",
    ");\"\"\"\n",
    "querry3 = \"\"\"CREATE TABLE IF NOT EXISTS movie_cast(\n",
    "    c_id integer PRIMARY KEY AUTOINCREMENT,\n",
    "    c_name text NOT NULL,\n",
    "    c_role integer NOT NULL,\n",
    "    FOREIGN KEY (c_role) REFERENCES movie_roles(r_id)\n",
    ");\"\"\"\n",
    "querry4 = \"\"\"CREATE TABLE IF NOT EXISTS r_cast_movie(\n",
    "    r_cid integer NOT NULL,\n",
    "    r_mid integer NOT NULL,\n",
    "    FOREIGN KEY (r_cid) REFERENCES movie_cast(c_id),\n",
    "    FOREIGN KEY (r_mid) REFERENCES movie_cast(m_id)\n",
    ");\"\"\"\n",
    "\n",
    "if conn is not None:\n",
    "    crea_table(conn,querry1)\n",
    "    crea_table(conn,querry2)\n",
    "    crea_table(conn,querry3)\n",
    "    crea_table(conn,querry4)\n",
    "\n",
    "else:\n",
    "    print(\"Error\")"
   ]
  },
  {
   "cell_type": "code",
   "execution_count": 21,
   "metadata": {},
   "outputs": [],
   "source": [
    "def insert_movie(conn,movie_v):\n",
    "    querry = \"\"\"INSERT INTO movies (m_name,m_dor) VALUES (?,?)\"\"\"\n",
    "\n",
    "    c = conn.cursor()\n",
    "    c.execute(querry,movie_v)\n",
    "    conn.commit()\n",
    "    return c.lastrowid"
   ]
  },
  {
   "cell_type": "code",
   "execution_count": 23,
   "metadata": {},
   "outputs": [],
   "source": [
    "def insert_cast(conn, cast_v):\n",
    "    querry = \"\"\"INSERT INTO movies_cast (c_name,c_roll) VALUES (?,?)\"\"\"\n",
    "\n",
    "    c = conn.cursor()\n",
    "    c.execute(querry, cast_v)\n",
    "    conn.commit()\n",
    "    return c.lastrowid\n"
   ]
  },
  {
   "cell_type": "code",
   "execution_count": 22,
   "metadata": {},
   "outputs": [],
   "source": [
    "def insert_movie_roles(conn):\n",
    "    querry = \"\"\"INSERT INTO movie_roles VALUES (?,?);\"\"\"\n",
    "    role_1 = (1, 'Actor')\n",
    "    role_2 = (2, 'Actress')\n",
    "    role_3 = (3, 'Director')\n",
    "    c= conn.cursor()\n",
    "    c.execute(querry,role_1)\n",
    "    c.execute(querry,role_2)\n",
    "    c.execute(querry,role_3)\n",
    "    conn.commit()\n",
    "    return\n",
    "\n",
    "insert_movie_roles(conn)"
   ]
  },
  {
   "cell_type": "markdown",
   "metadata": {},
   "source": [
    "while adding a movie \n",
    "\n",
    "name \n",
    "yeah / date\n",
    "\n",
    "cast: \n",
    "lead actors and actreses :::list -> split(,) -> loop for acters and actress \n",
    "director\n"
   ]
  },
  {
   "cell_type": "code",
   "execution_count": 13,
   "metadata": {},
   "outputs": [],
   "source": [
    "movie = ('The Avengers','2012-04-27')\n",
    "moive_id = insert_movie(conn,movie)\n",
    "\n"
   ]
  }
 ],
 "metadata": {
  "interpreter": {
   "hash": "b0fa6594d8f4cbf19f97940f81e996739fb7646882a419484c72d19e05852a7e"
  },
  "kernelspec": {
   "display_name": "Python 3.9.10 64-bit",
   "language": "python",
   "name": "python3"
  },
  "language_info": {
   "codemirror_mode": {
    "name": "ipython",
    "version": 3
   },
   "file_extension": ".py",
   "mimetype": "text/x-python",
   "name": "python",
   "nbconvert_exporter": "python",
   "pygments_lexer": "ipython3",
   "version": "3.9.10"
  },
  "orig_nbformat": 4
 },
 "nbformat": 4,
 "nbformat_minor": 2
}
